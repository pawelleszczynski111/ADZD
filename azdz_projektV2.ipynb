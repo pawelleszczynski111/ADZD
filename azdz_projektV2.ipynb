{
  "cells": [
    {
      "cell_type": "markdown",
      "source": [
        "Celem projektu jest za pomocą pyspark, wytrenować model na jak największym zbiorze danych, który na podstawie tekstu z logów, będzie je etykietował."
      ],
      "metadata": {
        "id": "PpoMkylRbK1h"
      }
    },
    {
      "cell_type": "code",
      "execution_count": null,
      "metadata": {
        "id": "tawubD9zCXNk"
      },
      "outputs": [],
      "source": [
        "import re"
      ]
    },
    {
      "cell_type": "code",
      "execution_count": null,
      "metadata": {
        "id": "bQmHxtJtIwLe"
      },
      "outputs": [],
      "source": [
        "# pip install numpy scipy\n"
      ]
    },
    {
      "cell_type": "code",
      "execution_count": null,
      "metadata": {
        "id": "89lRzq6TBE2B"
      },
      "outputs": [],
      "source": [
        "from pyspark.sql import SparkSession\n",
        "from pyspark.sql.functions import col, regexp_replace, split, lower, explode, lit\n",
        "from pyspark.ml.feature import Tokenizer, StopWordsRemover, HashingTF, IDF\n",
        "from pyspark.ml.classification import LogisticRegression\n",
        "from pyspark.ml.evaluation import MulticlassClassificationEvaluator\n",
        "from pyspark.ml.feature import StringIndexer\n",
        "from pyspark.sql.functions import regexp_extract, col\n",
        "from pyspark.sql.functions import concat_ws, to_timestamp\n",
        "from pyspark.ml.classification import LogisticRegressionModel\n",
        "from pyspark.ml.feature import IndexToString\n",
        "from pyspark.sql.functions import monotonically_increasing_id\n",
        "from pyspark.sql.types import StructType, StructField, StringType, TimestampType, ArrayType, DoubleType, LongType\n",
        "from pyspark.ml.linalg import VectorUDT\n",
        "from pyspark.sql import Row\n",
        "from pyspark.ml.evaluation import BinaryClassificationEvaluator\n"
      ]
    },
    {
      "cell_type": "code",
      "execution_count": null,
      "metadata": {
        "id": "Qi543vrESKyQ"
      },
      "outputs": [],
      "source": [
        "from pyspark.ml.classification import LogisticRegression\n",
        "from pyspark.ml.feature import VectorAssembler\n",
        "from pyspark.ml import Model"
      ]
    },
    {
      "cell_type": "markdown",
      "source": [
        "Wczytanie danych i zapisanie ich do tabeli. Za pomocą wyrażeń regularny ciąg tekstu został rozbity i zapisany do odpowiedich kolumn"
      ],
      "metadata": {
        "id": "UzQYx7YGSWgz"
      }
    },
    {
      "cell_type": "code",
      "execution_count": null,
      "metadata": {
        "colab": {
          "base_uri": "https://localhost:8080/"
        },
        "id": "6AoADOVbSKyQ",
        "outputId": "726e75fc-afee-48b8-c969-f9d8b3a11344"
      },
      "outputs": [
        {
          "output_type": "stream",
          "name": "stderr",
          "text": [
            "Setting default log level to \"WARN\".\n",
            "To adjust logging level use sc.setLogLevel(newLevel). For SparkR, use setLogLevel(newLevel).\n",
            "25/01/28 14:20:35 WARN NativeCodeLoader: Unable to load native-hadoop library for your platform... using builtin-java classes where applicable\n"
          ]
        }
      ],
      "source": [
        "spark = SparkSession.builder \\\n",
        "    .appName(\"Log Classification\") \\\n",
        "    .config(\"spark.driver.memory\", \"14g\") \\\n",
        "    .config(\"spark.executor.memory\", \"14g\") \\\n",
        "    .getOrCreate()"
      ]
    },
    {
      "cell_type": "code",
      "execution_count": null,
      "metadata": {
        "id": "qKOHJbHxBRtT"
      },
      "outputs": [],
      "source": [
        "logs_rdd = spark.read.text(\"issue_1/applogcat.log\")\n",
        "log_pattern = r\"(\\d{1,2}-\\d{1,2}) (\\d{2}:\\d{2}:\\d{2}\\.\\d{3})\\s+(\\d+)\\s+(\\d+)\\s+([A-Z])\\s+([a-zA-Z0-9_]+):\\s+(.*)\"\n"
      ]
    },
    {
      "cell_type": "markdown",
      "source": [
        "Łącznie w w tabeli znajduje się półtora miliona rekordów.Projekt ogranicza się do takiej ilości, przez wzgląd na ograniczenia sprzętowe. Przy uczeniu modelu z większą ilością, pyspark ulegał awarii, prawdopodobnie przez nie wsytarczającą ilość pamięci RAM"
      ],
      "metadata": {
        "id": "sUlhRcakS1fa"
      }
    },
    {
      "cell_type": "code",
      "execution_count": null,
      "metadata": {
        "colab": {
          "base_uri": "https://localhost:8080/"
        },
        "id": "5mcMHG50Ej2d",
        "outputId": "1de5808a-fd88-4309-d37a-3125a4d24d2c"
      },
      "outputs": [
        {
          "output_type": "stream",
          "name": "stderr",
          "text": [
            "\r[Stage 0:>                                                        (0 + 12) / 12]\r"
          ]
        },
        {
          "output_type": "stream",
          "name": "stdout",
          "text": [
            "1555005\n"
          ]
        },
        {
          "output_type": "stream",
          "name": "stderr",
          "text": [
            "\r                                                                                \r"
          ]
        }
      ],
      "source": [
        "print(logs_rdd.count())"
      ]
    },
    {
      "cell_type": "code",
      "execution_count": null,
      "metadata": {
        "id": "gUgmSOmfCa58"
      },
      "outputs": [],
      "source": [
        "logs_df = logs_rdd.select(\n",
        "    regexp_extract('value', log_pattern, 1).alias('date'),\n",
        "    regexp_extract('value', log_pattern, 2).alias('time'),\n",
        "    regexp_extract('value', log_pattern, 3).alias('pid'),\n",
        "    regexp_extract('value', log_pattern, 4).alias('tid'),\n",
        "    regexp_extract('value', log_pattern, 5).alias('level'),\n",
        "    regexp_extract('value', log_pattern, 6).alias('source'),\n",
        "    regexp_extract('value', log_pattern, 7).alias('message')\n",
        ")"
      ]
    },
    {
      "cell_type": "code",
      "execution_count": null,
      "metadata": {
        "id": "CYGnl-Z0CbHi"
      },
      "outputs": [],
      "source": [
        "logs_df = logs_df.withColumn(\n",
        "    \"timestamp\", to_timestamp(concat_ws(\" \", col(\"date\"), col(\"time\")), \"MM-dd HH:mm:ss.SSS\")\n",
        ").drop(\"date\", \"time\")"
      ]
    },
    {
      "cell_type": "markdown",
      "source": [
        "EKSPLORACJA DANYCH"
      ],
      "metadata": {
        "id": "ys8BKgilUIQh"
      }
    },
    {
      "cell_type": "code",
      "execution_count": null,
      "metadata": {
        "colab": {
          "base_uri": "https://localhost:8080/"
        },
        "id": "lVJarQf-ChMR",
        "outputId": "2a9a6cf4-1292-4b0b-f7e5-eb43aaf84801"
      },
      "outputs": [
        {
          "output_type": "stream",
          "name": "stdout",
          "text": [
            "+----+----+-----+-----------------------+-------------------------------------------------------------------------------------------------------------------------------------------------------------------------------------------------------------------------------------------------------------------------------------------------------------------------------------------------------------------------------------------------------------------------------------------------------------------------------------------------------+-----------------------+\n",
            "|pid |tid |level|source                 |message                                                                                                                                                                                                                                                                                                                                                                                                                                                                                                |timestamp              |\n",
            "+----+----+-----+-----------------------+-------------------------------------------------------------------------------------------------------------------------------------------------------------------------------------------------------------------------------------------------------------------------------------------------------------------------------------------------------------------------------------------------------------------------------------------------------------------------------------------------------+-----------------------+\n",
            "|1795|1825|I    |PowerManager_screenOn  |DisplayPowerStatesetColorFadeLevel: level=1.0                                                                                                                                                                                                                                                                                                                                                                                                                                                          |1970-12-17 19:31:36.263|\n",
            "|5224|5283|I    |SendBroadcastPermission|action:android.com.huawei.bone.NOTIFY_SPORT_DATA, mPermissionType:0                                                                                                                                                                                                                                                                                                                                                                                                                                    |1970-12-17 19:31:36.263|\n",
            "|1795|1825|D    |DisplayPowerController |Animating brightness: target=21, rate=40                                                                                                                                                                                                                                                                                                                                                                                                                                                               |1970-12-17 19:31:36.264|\n",
            "|1795|1825|I    |PowerManager_screenOn  |DisplayPowerController updatePowerState mPendingRequestLocked=policy=BRIGHT, useProximitySensor=true, useProximitySensorbyPhone=true, screenBrightness=33, screenAutoBrightnessAdjustment=0.0, brightnessSetByUser=true, useAutoBrightness=true, blockScreenOn=false, lowPowerMode=false, boostScreenBrightness=false, dozeScreenBrightness=-1, dozeScreenState=UNKNOWN, useTwilight=false, useSmartBacklight=true, brightnessWaitMode=false, brightnessWaitRet=true, screenAutoBrightness=-1, userId=0|1970-12-17 19:31:36.264|\n",
            "|1795|2750|I    |PowerManager_screenOn  |DisplayPowerState Updating screen state: state=ON, backlight=823                                                                                                                                                                                                                                                                                                                                                                                                                                       |1970-12-17 19:31:36.264|\n",
            "|1795|2750|I    |HwLightsService        |back light level before map = 823                                                                                                                                                                                                                                                                                                                                                                                                                                                                      |1970-12-17 19:31:36.264|\n",
            "|1795|1825|D    |DisplayPowerController |Animating brightness: target=21, rate=40                                                                                                                                                                                                                                                                                                                                                                                                                                                               |1970-12-17 19:31:36.264|\n",
            "|1795|1825|V    |KeyguardServiceDelegate|onScreenTurnedOn()                                                                                                                                                                                                                                                                                                                                                                                                                                                                                     |1970-12-17 19:31:36.264|\n",
            "|1795|1825|I    |WindowManger_keyguard  |onScreenTurnedOn()                                                                                                                                                                                                                                                                                                                                                                                                                                                                                     |1970-12-17 19:31:36.264|\n",
            "|1795|1825|D    |DisplayPowerController |Display ready!                                                                                                                                                                                                                                                                                                                                                                                                                                                                                         |1970-12-17 19:31:36.264|\n",
            "|1795|1825|D    |DisplayPowerController |Finished business...                                                                                                                                                                                                                                                                                                                                                                                                                                                                                   |1970-12-17 19:31:36.264|\n",
            "|2852|3328|D    |KeyguardService        |Caller checkPermission fail                                                                                                                                                                                                                                                                                                                                                                                                                                                                            |1970-12-17 19:31:36.264|\n",
            "|2852|3328|D    |KeyguardService        |KGSvcCall onScreenTurnedOn.                                                                                                                                                                                                                                                                                                                                                                                                                                                                            |1970-12-17 19:31:36.264|\n",
            "|2852|3328|D    |KeyguardViewMediator   |notifyScreenTurnedOn                                                                                                                                                                                                                                                                                                                                                                                                                                                                                   |1970-12-17 19:31:36.264|\n",
            "|2852|2852|D    |KeyguardViewMediator   |handleNotifyScreenTurnedOn                                                                                                                                                                                                                                                                                                                                                                                                                                                                             |1970-12-17 19:31:36.265|\n",
            "|2852|2852|I    |PhoneStatusBar         |onScreenTurnedOn                                                                                                                                                                                                                                                                                                                                                                                                                                                                                       |1970-12-17 19:31:36.265|\n",
            "|2852|2852|D    |KGWallpaper_Magazine   |getNextIndex: 0; from 5 to 5; size: 44                                                                                                                                                                                                                                                                                                                                                                                                                                                                 |1970-12-17 19:31:36.265|\n",
            "|2852|2852|I    |HwLockScreenReporter   |report msg is :{picture: Deepwater-05-2.3.001-bigpicture_05_8.jpg}                                                                                                                                                                                                                                                                                                                                                                                                                                     |1970-12-17 19:31:36.265|\n",
            "|2852|2852|W    |HwLockScreenReporter   |report result = falsereport type:162 msg:{picture: Deepwater-05-2.3.001-bigpicture_05_8.jpg, channelId: 05}                                                                                                                                                                                                                                                                                                                                                                                            |1970-12-17 19:31:36.265|\n",
            "|2852|2852|I    |OucScreenOnCounter     |Screen already turned on at: 1481974212                                                                                                                                                                                                                                                                                                                                                                                                                                                                |1970-12-17 19:31:36.265|\n",
            "+----+----+-----+-----------------------+-------------------------------------------------------------------------------------------------------------------------------------------------------------------------------------------------------------------------------------------------------------------------------------------------------------------------------------------------------------------------------------------------------------------------------------------------------------------------------------------------------+-----------------------+\n",
            "only showing top 20 rows\n",
            "\n"
          ]
        }
      ],
      "source": [
        "logs_df.show(truncate=False)"
      ]
    },
    {
      "cell_type": "markdown",
      "source": [
        "W kolumnie timestamp znajduje się dużo wartości null, jednocześnie nie wydaje się ona być istota w procesie uczenia masyznowego, w związku z czym zostaje ona zdropowana"
      ],
      "metadata": {
        "id": "cjIN0ALyVSiW"
      }
    },
    {
      "cell_type": "code",
      "source": [
        "null_count = logs_df.filter(col(\"timestamp\").isNull()).count()\n",
        "print('timestamp nulls:',null_count)\n",
        "null_count = logs_df.filter(col(\"pid\").isNull()).count()\n",
        "print('pid nulls:',null_count)\n",
        "null_count = logs_df.filter(col(\"tid\").isNull()).count()\n",
        "print('tid nulls:',null_count)\n",
        "null_count = logs_df.filter(col(\"level\").isNull()).count()\n",
        "print('level nulls:',null_count)\n",
        "null_count = logs_df.filter(col(\"message\").isNull()).count()\n",
        "print('message nulls:',null_count)"
      ],
      "metadata": {
        "colab": {
          "base_uri": "https://localhost:8080/"
        },
        "id": "HTeY5Q82U-T1",
        "outputId": "c189ee34-c140-4ee6-a7ae-9c6700366a72"
      },
      "execution_count": null,
      "outputs": [
        {
          "output_type": "stream",
          "name": "stderr",
          "text": []
        },
        {
          "output_type": "stream",
          "name": "stdout",
          "text": [
            "timestamp nulls: 419009\n"
          ]
        },
        {
          "output_type": "stream",
          "name": "stderr",
          "text": [
            "\r[Stage 19:==============================================>         (10 + 2) / 12]\r\r                                                                                \r"
          ]
        },
        {
          "output_type": "stream",
          "name": "stdout",
          "text": [
            "pid nulls: 0\n"
          ]
        },
        {
          "output_type": "stream",
          "name": "stderr",
          "text": [
            "\r[Stage 22:>                                                       (0 + 12) / 12]\r\r                                                                                \r"
          ]
        },
        {
          "output_type": "stream",
          "name": "stdout",
          "text": [
            "tid nulls: 0\n"
          ]
        },
        {
          "output_type": "stream",
          "name": "stderr",
          "text": [
            "\r[Stage 25:====>                                                   (1 + 11) / 12]\r\r                                                                                \r"
          ]
        },
        {
          "output_type": "stream",
          "name": "stdout",
          "text": [
            "level nulls: 0\n",
            "message nulls: 0\n"
          ]
        },
        {
          "output_type": "stream",
          "name": "stderr",
          "text": [
            "\r[Stage 28:=======================>                                 (5 + 7) / 12]\r\r                                                                                \r"
          ]
        }
      ]
    },
    {
      "cell_type": "code",
      "source": [
        "logs_df = logs_df.drop('timestamp')"
      ],
      "metadata": {
        "id": "_gHHIzG3VQYD"
      },
      "execution_count": null,
      "outputs": []
    },
    {
      "cell_type": "code",
      "execution_count": null,
      "metadata": {
        "colab": {
          "base_uri": "https://localhost:8080/"
        },
        "id": "8EXYI1hbCiiD",
        "outputId": "22133798-bca1-4deb-9aa7-2721a9d88b4d"
      },
      "outputs": [
        {
          "output_type": "stream",
          "name": "stderr",
          "text": []
        },
        {
          "output_type": "stream",
          "name": "stdout",
          "text": [
            "+-----+------+\n",
            "|level| count|\n",
            "+-----+------+\n",
            "|    E| 64769|\n",
            "|    V| 38204|\n",
            "|    D|444834|\n",
            "|    W| 72910|\n",
            "|    I|515276|\n",
            "|     |419009|\n",
            "|    F|     3|\n",
            "+-----+------+\n",
            "\n"
          ]
        },
        {
          "output_type": "stream",
          "name": "stderr",
          "text": [
            "\r                                                                                \r"
          ]
        }
      ],
      "source": [
        "logs_df.groupBy(\"level\").count().show()"
      ]
    },
    {
      "cell_type": "code",
      "execution_count": null,
      "metadata": {
        "colab": {
          "base_uri": "https://localhost:8080/"
        },
        "id": "G-SoTkfyC7aA",
        "outputId": "66992448-9b84-46ad-acb8-a46294d07953"
      },
      "outputs": [
        {
          "output_type": "stream",
          "name": "stderr",
          "text": [
            "\r[Stage 7:>                                                        (0 + 12) / 12]\r"
          ]
        },
        {
          "output_type": "stream",
          "name": "stdout",
          "text": [
            "+--------------------+------+\n",
            "|              source| count|\n",
            "+--------------------+------+\n",
            "|                    |419009|\n",
            "| PowerManagerService| 75836|\n",
            "|HwCustMobileSigna...| 55644|\n",
            "|      wpa_supplicant| 53279|\n",
            "| HwSignalClusterView| 38672|\n",
            "|    UsbDeviceManager| 28579|\n",
            "|SendBroadcastPerm...| 24563|\n",
            "|     ActivityManager| 23781|\n",
            "|     HwSystemManager| 20706|\n",
            "|        NetWorkUtils| 19274|\n",
            "|HwActivityManager...| 18200|\n",
            "|libfingersense_wr...| 17832|\n",
            "|HwMobileSignalCon...| 17820|\n",
            "|            chromium| 16968|\n",
            "|StackScrollAlgorithm| 14989|\n",
            "|HwAmbientLuxFilte...| 14712|\n",
            "|   NetworkManagement| 14271|\n",
            "|PhoneInterfaceMan...| 14041|\n",
            "|          HwLauncher| 13724|\n",
            "|ActivityManager_b...| 13623|\n",
            "+--------------------+------+\n",
            "only showing top 20 rows\n",
            "\n"
          ]
        },
        {
          "output_type": "stream",
          "name": "stderr",
          "text": [
            "\r                                                                                \r"
          ]
        }
      ],
      "source": [
        "logs_df.groupBy(\"source\").count().orderBy(\"count\", ascending=False).show()"
      ]
    },
    {
      "cell_type": "code",
      "execution_count": null,
      "metadata": {
        "colab": {
          "base_uri": "https://localhost:8080/"
        },
        "id": "hQ-iQzwkC9wo",
        "outputId": "773379b0-ad01-4248-8d78-a101cc018e17"
      },
      "outputs": [
        {
          "output_type": "stream",
          "name": "stdout",
          "text": [
            "+-----+-----+\n",
            "|  pid|count|\n",
            "+-----+-----+\n",
            "| 3858|  422|\n",
            "| 4690| 1265|\n",
            "|22049|   14|\n",
            "|22148|   32|\n",
            "|  836|  656|\n",
            "|20818|   23|\n",
            "| 3466| 1292|\n",
            "|21569|   32|\n",
            "|20894|  202|\n",
            "| 3879|16186|\n",
            "| 7194| 7994|\n",
            "|  597|  783|\n",
            "|21081|   23|\n",
            "|  633|11408|\n",
            "|16914|   43|\n",
            "|  523|   19|\n",
            "| 2835|   43|\n",
            "|18142|  132|\n",
            "|22921|   30|\n",
            "| 1046|21441|\n",
            "+-----+-----+\n",
            "only showing top 20 rows\n",
            "\n"
          ]
        },
        {
          "output_type": "stream",
          "name": "stderr",
          "text": [
            "\r[Stage 10:====>                                                   (1 + 11) / 12]\r\r                                                                                \r"
          ]
        }
      ],
      "source": [
        "logs_df.groupBy(\"pid\").count().show()"
      ]
    },
    {
      "cell_type": "code",
      "execution_count": null,
      "metadata": {
        "colab": {
          "base_uri": "https://localhost:8080/"
        },
        "id": "yEMTcGirDImE",
        "outputId": "3671ebde-4f7b-461a-b50d-1133ad6fb2ea"
      },
      "outputs": [
        {
          "output_type": "stream",
          "name": "stderr",
          "text": [
            "\r[Stage 13:====>                                                   (1 + 11) / 12]\r\r[Stage 13:===================================================>    (11 + 1) / 12]\r"
          ]
        },
        {
          "output_type": "stream",
          "name": "stdout",
          "text": [
            "+-----+-----+\n",
            "|  tid|count|\n",
            "+-----+-----+\n",
            "|20219|    1|\n",
            "|21331|   53|\n",
            "| 1572|   40|\n",
            "| 3517| 4308|\n",
            "| 1808| 5372|\n",
            "|20626|    5|\n",
            "| 7208| 4605|\n",
            "|23054|    5|\n",
            "| 3249| 5213|\n",
            "| 3121| 5115|\n",
            "|21556|    1|\n",
            "|21833|   11|\n",
            "| 2895|  380|\n",
            "|22920|    7|\n",
            "|20183|    5|\n",
            "|20881|    4|\n",
            "|22652|    3|\n",
            "| 4690| 1247|\n",
            "|22049|   14|\n",
            "|20387|    4|\n",
            "+-----+-----+\n",
            "only showing top 20 rows\n",
            "\n"
          ]
        },
        {
          "output_type": "stream",
          "name": "stderr",
          "text": [
            "\r                                                                                \r"
          ]
        }
      ],
      "source": [
        "logs_df.groupBy(\"tid\").count().show()"
      ]
    },
    {
      "cell_type": "markdown",
      "source": [
        "Słowa z wiadomości logów zostają ztokenizowane, a następnie usyzskuja reprezentację liczbową w wektorze. Dodatkowo usunięte zostają niepoterzebne stopwordy np. THE, A, AN, AS."
      ],
      "metadata": {
        "id": "NJGu0GMWV-n6"
      }
    },
    {
      "cell_type": "code",
      "execution_count": null,
      "metadata": {
        "id": "QraqOQOJDLOr"
      },
      "outputs": [],
      "source": [
        "tokenizer = Tokenizer(inputCol=\"message\", outputCol=\"words\")\n",
        "tokenized_df = tokenizer.transform(logs_df)"
      ]
    },
    {
      "cell_type": "code",
      "execution_count": null,
      "metadata": {
        "id": "C076o7tADfpl"
      },
      "outputs": [],
      "source": [
        "remover = StopWordsRemover(inputCol=\"words\", outputCol=\"filtered_words\")\n",
        "processed_df = remover.transform(tokenized_df)"
      ]
    },
    {
      "cell_type": "code",
      "execution_count": null,
      "metadata": {
        "colab": {
          "base_uri": "https://localhost:8080/"
        },
        "id": "-oFwO9AGDkJk",
        "outputId": "4684eee0-a583-4571-b047-f6d9cf67a6f5"
      },
      "outputs": [
        {
          "output_type": "stream",
          "name": "stdout",
          "text": [
            "+----+----+-----+--------------------+--------------------+--------------------+--------------------+\n",
            "| pid| tid|level|              source|             message|               words|      filtered_words|\n",
            "+----+----+-----+--------------------+--------------------+--------------------+--------------------+\n",
            "|1795|1825|    I|PowerManager_scre...|DisplayPowerState...|[displaypowerstat...|[displaypowerstat...|\n",
            "|5224|5283|    I|SendBroadcastPerm...|action:android.co...|[action:android.c...|[action:android.c...|\n",
            "|1795|1825|    D|DisplayPowerContr...|Animating brightn...|[animating, brigh...|[animating, brigh...|\n",
            "|1795|1825|    I|PowerManager_scre...|DisplayPowerContr...|[displaypowercont...|[displaypowercont...|\n",
            "|1795|2750|    I|PowerManager_scre...|DisplayPowerState...|[displaypowerstat...|[displaypowerstat...|\n",
            "|1795|2750|    I|     HwLightsService|back light level ...|[back, light, lev...|[back, light, lev...|\n",
            "|1795|1825|    D|DisplayPowerContr...|Animating brightn...|[animating, brigh...|[animating, brigh...|\n",
            "|1795|1825|    V|KeyguardServiceDe...|  onScreenTurnedOn()|[onscreenturnedon()]|[onscreenturnedon()]|\n",
            "|1795|1825|    I|WindowManger_keyg...|  onScreenTurnedOn()|[onscreenturnedon()]|[onscreenturnedon()]|\n",
            "|1795|1825|    D|DisplayPowerContr...|      Display ready!|   [display, ready!]|   [display, ready!]|\n",
            "|1795|1825|    D|DisplayPowerContr...|Finished business...|[finished, busine...|[finished, busine...|\n",
            "|2852|3328|    D|     KeyguardService|Caller checkPermi...|[caller, checkper...|[caller, checkper...|\n",
            "|2852|3328|    D|     KeyguardService|KGSvcCall onScree...|[kgsvccall, onscr...|[kgsvccall, onscr...|\n",
            "|2852|3328|    D|KeyguardViewMediator|notifyScreenTurnedOn|[notifyscreenturn...|[notifyscreenturn...|\n",
            "|2852|2852|    D|KeyguardViewMediator|handleNotifyScree...|[handlenotifyscre...|[handlenotifyscre...|\n",
            "|2852|2852|    I|      PhoneStatusBar|    onScreenTurnedOn|  [onscreenturnedon]|  [onscreenturnedon]|\n",
            "|2852|2852|    D|KGWallpaper_Magazine|getNextIndex: 0; ...|[getnextindex:, 0...|[getnextindex:, 0...|\n",
            "|2852|2852|    I|HwLockScreenReporter|report msg is :{p...|[report, msg, is,...|[report, msg, :{p...|\n",
            "|2852|2852|    W|HwLockScreenReporter|report result = f...|[report, result, ...|[report, result, ...|\n",
            "|2852|2852|    I|  OucScreenOnCounter|Screen already tu...|[screen, already,...|[screen, already,...|\n",
            "+----+----+-----+--------------------+--------------------+--------------------+--------------------+\n",
            "only showing top 20 rows\n",
            "\n"
          ]
        }
      ],
      "source": [
        "processed_df.show()"
      ]
    },
    {
      "cell_type": "code",
      "execution_count": null,
      "metadata": {
        "colab": {
          "base_uri": "https://localhost:8080/"
        },
        "id": "lHodCwMhD_vt",
        "outputId": "bf69bffe-2cab-45a8-cf83-131f351cd228"
      },
      "outputs": [
        {
          "output_type": "stream",
          "name": "stderr",
          "text": []
        }
      ],
      "source": [
        "hashing_tf = HashingTF(inputCol=\"filtered_words\", outputCol=\"raw_features\", numFeatures=10000)\n",
        "tf_df = hashing_tf.transform(processed_df)\n",
        "\n",
        "idf = IDF(inputCol=\"raw_features\", outputCol=\"features\")\n",
        "idf_model = idf.fit(tf_df)\n",
        "final_df = idf_model.transform(tf_df)"
      ]
    },
    {
      "cell_type": "code",
      "execution_count": null,
      "metadata": {
        "colab": {
          "base_uri": "https://localhost:8080/"
        },
        "id": "olUEoiiAGaQO",
        "outputId": "e0439a96-4b3f-438a-a36a-4ca43c0801e4"
      },
      "outputs": [
        {
          "output_type": "stream",
          "name": "stdout",
          "text": [
            "+----+----+-----+--------------------+--------------------+--------------------+--------------------+--------------------+--------------------+-----+\n",
            "| pid| tid|level|              source|             message|               words|      filtered_words|        raw_features|            features|label|\n",
            "+----+----+-----+--------------------+--------------------+--------------------+--------------------+--------------------+--------------------+-----+\n",
            "|1795|1825|    I|PowerManager_scre...|DisplayPowerState...|[displaypowerstat...|[displaypowerstat...|(10000,[1058,4665...|(10000,[1058,4665...| 24.0|\n",
            "|5224|5283|    I|SendBroadcastPerm...|action:android.co...|[action:android.c...|[action:android.c...|(10000,[4799,9251...|(10000,[4799,9251...|  6.0|\n",
            "|1795|1825|    D|DisplayPowerContr...|Animating brightn...|[animating, brigh...|[animating, brigh...|(10000,[2690,4142...|(10000,[2690,4142...| 59.0|\n",
            "|1795|1825|    I|PowerManager_scre...|DisplayPowerContr...|[displaypowercont...|[displaypowercont...|(10000,[66,768,11...|(10000,[66,768,11...| 24.0|\n",
            "|1795|2750|    I|PowerManager_scre...|DisplayPowerState...|[displaypowerstat...|[displaypowerstat...|(10000,[351,479,2...|(10000,[351,479,2...| 24.0|\n",
            "|1795|2750|    I|     HwLightsService|back light level ...|[back, light, lev...|[back, light, lev...|(10000,[1499,1720...|(10000,[1499,1720...|128.0|\n",
            "|1795|1825|    D|DisplayPowerContr...|Animating brightn...|[animating, brigh...|[animating, brigh...|(10000,[2690,4142...|(10000,[2690,4142...| 59.0|\n",
            "|1795|1825|    V|KeyguardServiceDe...|  onScreenTurnedOn()|[onscreenturnedon()]|[onscreenturnedon()]|(10000,[8793],[1.0])|(10000,[8793],[8....|290.0|\n",
            "|1795|1825|    I|WindowManger_keyg...|  onScreenTurnedOn()|[onscreenturnedon()]|[onscreenturnedon()]|(10000,[8793],[1.0])|(10000,[8793],[8....| 65.0|\n",
            "|1795|1825|    D|DisplayPowerContr...|      Display ready!|   [display, ready!]|   [display, ready!]|(10000,[3270,6860...|(10000,[3270,6860...| 59.0|\n",
            "|1795|1825|    D|DisplayPowerContr...|Finished business...|[finished, busine...|[finished, busine...|(10000,[4244,5349...|(10000,[4244,5349...| 59.0|\n",
            "|2852|3328|    D|     KeyguardService|Caller checkPermi...|[caller, checkper...|[caller, checkper...|(10000,[4532,4919...|(10000,[4532,4919...|111.0|\n",
            "|2852|3328|    D|     KeyguardService|KGSvcCall onScree...|[kgsvccall, onscr...|[kgsvccall, onscr...|(10000,[3346,9123...|(10000,[3346,9123...|111.0|\n",
            "|2852|3328|    D|KeyguardViewMediator|notifyScreenTurnedOn|[notifyscreenturn...|[notifyscreenturn...|(10000,[7280],[1.0])|(10000,[7280],[7....| 79.0|\n",
            "|2852|2852|    D|KeyguardViewMediator|handleNotifyScree...|[handlenotifyscre...|[handlenotifyscre...|(10000,[6549],[1.0])|(10000,[6549],[8....| 79.0|\n",
            "|2852|2852|    I|      PhoneStatusBar|    onScreenTurnedOn|  [onscreenturnedon]|  [onscreenturnedon]| (10000,[510],[1.0])|(10000,[510],[7.6...| 23.0|\n",
            "|2852|2852|    D|KGWallpaper_Magazine|getNextIndex: 0; ...|[getnextindex:, 0...|[getnextindex:, 0...|(10000,[2720,4190...|(10000,[2720,4190...|115.0|\n",
            "|2852|2852|    I|HwLockScreenReporter|report msg is :{p...|[report, msg, is,...|[report, msg, :{p...|(10000,[3582,6505...|(10000,[3582,6505...|219.0|\n",
            "|2852|2852|    W|HwLockScreenReporter|report result = f...|[report, result, ...|[report, result, ...|(10000,[399,1390,...|(10000,[399,1390,...|219.0|\n",
            "|2852|2852|    I|  OucScreenOnCounter|Screen already tu...|[screen, already,...|[screen, already,...|(10000,[594,4190,...|(10000,[594,4190,...|454.0|\n",
            "+----+----+-----+--------------------+--------------------+--------------------+--------------------+--------------------+--------------------+-----+\n",
            "only showing top 20 rows\n",
            "\n"
          ]
        }
      ],
      "source": [
        "final_df.show()"
      ]
    },
    {
      "cell_type": "code",
      "execution_count": null,
      "metadata": {
        "colab": {
          "base_uri": "https://localhost:8080/"
        },
        "id": "uRAjj_akGd7r",
        "outputId": "1064ed71-d5e0-4340-f81a-1cd5813bb7c5"
      },
      "outputs": [
        {
          "output_type": "stream",
          "name": "stderr",
          "text": []
        }
      ],
      "source": [
        "indexer = StringIndexer(inputCol=\"source\", outputCol=\"label\")\n",
        "final_df = indexer.fit(final_df).transform(final_df)"
      ]
    },
    {
      "cell_type": "code",
      "execution_count": null,
      "metadata": {
        "colab": {
          "base_uri": "https://localhost:8080/"
        },
        "id": "J8o2WdD8GjyJ",
        "outputId": "7053e9bc-43fa-435a-c06f-552784af7137"
      },
      "outputs": [
        {
          "output_type": "stream",
          "name": "stdout",
          "text": [
            "+----+----+-----+--------------------+--------------------+--------------------+--------------------+--------------------+--------------------+-----+\n",
            "| pid| tid|level|              source|             message|               words|      filtered_words|        raw_features|            features|label|\n",
            "+----+----+-----+--------------------+--------------------+--------------------+--------------------+--------------------+--------------------+-----+\n",
            "|1795|1825|    I|PowerManager_scre...|DisplayPowerState...|[displaypowerstat...|[displaypowerstat...|(10000,[1058,4665...|(10000,[1058,4665...| 24.0|\n",
            "|5224|5283|    I|SendBroadcastPerm...|action:android.co...|[action:android.c...|[action:android.c...|(10000,[4799,9251...|(10000,[4799,9251...|  6.0|\n",
            "|1795|1825|    D|DisplayPowerContr...|Animating brightn...|[animating, brigh...|[animating, brigh...|(10000,[2690,4142...|(10000,[2690,4142...| 59.0|\n",
            "|1795|1825|    I|PowerManager_scre...|DisplayPowerContr...|[displaypowercont...|[displaypowercont...|(10000,[66,768,11...|(10000,[66,768,11...| 24.0|\n",
            "|1795|2750|    I|PowerManager_scre...|DisplayPowerState...|[displaypowerstat...|[displaypowerstat...|(10000,[351,479,2...|(10000,[351,479,2...| 24.0|\n",
            "|1795|2750|    I|     HwLightsService|back light level ...|[back, light, lev...|[back, light, lev...|(10000,[1499,1720...|(10000,[1499,1720...|128.0|\n",
            "|1795|1825|    D|DisplayPowerContr...|Animating brightn...|[animating, brigh...|[animating, brigh...|(10000,[2690,4142...|(10000,[2690,4142...| 59.0|\n",
            "|1795|1825|    V|KeyguardServiceDe...|  onScreenTurnedOn()|[onscreenturnedon()]|[onscreenturnedon()]|(10000,[8793],[1.0])|(10000,[8793],[8....|290.0|\n",
            "|1795|1825|    I|WindowManger_keyg...|  onScreenTurnedOn()|[onscreenturnedon()]|[onscreenturnedon()]|(10000,[8793],[1.0])|(10000,[8793],[8....| 65.0|\n",
            "|1795|1825|    D|DisplayPowerContr...|      Display ready!|   [display, ready!]|   [display, ready!]|(10000,[3270,6860...|(10000,[3270,6860...| 59.0|\n",
            "|1795|1825|    D|DisplayPowerContr...|Finished business...|[finished, busine...|[finished, busine...|(10000,[4244,5349...|(10000,[4244,5349...| 59.0|\n",
            "|2852|3328|    D|     KeyguardService|Caller checkPermi...|[caller, checkper...|[caller, checkper...|(10000,[4532,4919...|(10000,[4532,4919...|111.0|\n",
            "|2852|3328|    D|     KeyguardService|KGSvcCall onScree...|[kgsvccall, onscr...|[kgsvccall, onscr...|(10000,[3346,9123...|(10000,[3346,9123...|111.0|\n",
            "|2852|3328|    D|KeyguardViewMediator|notifyScreenTurnedOn|[notifyscreenturn...|[notifyscreenturn...|(10000,[7280],[1.0])|(10000,[7280],[7....| 79.0|\n",
            "|2852|2852|    D|KeyguardViewMediator|handleNotifyScree...|[handlenotifyscre...|[handlenotifyscre...|(10000,[6549],[1.0])|(10000,[6549],[8....| 79.0|\n",
            "|2852|2852|    I|      PhoneStatusBar|    onScreenTurnedOn|  [onscreenturnedon]|  [onscreenturnedon]| (10000,[510],[1.0])|(10000,[510],[7.6...| 23.0|\n",
            "|2852|2852|    D|KGWallpaper_Magazine|getNextIndex: 0; ...|[getnextindex:, 0...|[getnextindex:, 0...|(10000,[2720,4190...|(10000,[2720,4190...|115.0|\n",
            "|2852|2852|    I|HwLockScreenReporter|report msg is :{p...|[report, msg, is,...|[report, msg, :{p...|(10000,[3582,6505...|(10000,[3582,6505...|219.0|\n",
            "|2852|2852|    W|HwLockScreenReporter|report result = f...|[report, result, ...|[report, result, ...|(10000,[399,1390,...|(10000,[399,1390,...|219.0|\n",
            "|2852|2852|    I|  OucScreenOnCounter|Screen already tu...|[screen, already,...|[screen, already,...|(10000,[594,4190,...|(10000,[594,4190,...|454.0|\n",
            "+----+----+-----+--------------------+--------------------+--------------------+--------------------+--------------------+--------------------+-----+\n",
            "only showing top 20 rows\n",
            "\n"
          ]
        }
      ],
      "source": [
        "final_df.show()"
      ]
    },
    {
      "cell_type": "markdown",
      "source": [
        "Podział danych za zbiór uczący i testowy w proporcji 80:20"
      ],
      "metadata": {
        "id": "IbCgJIJoV3om"
      }
    },
    {
      "cell_type": "code",
      "execution_count": null,
      "metadata": {
        "id": "JcSTgQ8MGnBN"
      },
      "outputs": [],
      "source": [
        "train_df, test_df = final_df.randomSplit([0.8, 0.2], seed=42)\n"
      ]
    },
    {
      "cell_type": "code",
      "execution_count": null,
      "metadata": {
        "id": "44g0mzuxSKyT"
      },
      "outputs": [],
      "source": [
        "assembler = VectorAssembler(inputCols=[\"raw_features\", \"features\", \"label\"], outputCol=\"new_label\")\n"
      ]
    },
    {
      "cell_type": "code",
      "execution_count": null,
      "metadata": {
        "id": "dyfg_SabSKyT"
      },
      "outputs": [],
      "source": [
        "train_df = assembler.transform(train_df)\n"
      ]
    },
    {
      "cell_type": "code",
      "execution_count": null,
      "metadata": {
        "id": "2SagazzkSKyT"
      },
      "outputs": [],
      "source": [
        "lr = LogisticRegression(featuresCol=\"features\", labelCol=\"label\", maxIter=10)\n"
      ]
    },
    {
      "cell_type": "markdown",
      "source": [
        "Dane zostają podzielone na 5 bucketów, na każdym zostaje wyszkolony model regresji liniowej. OStateczną decyzję na temat predykcji, modele podejmują poprzez głosowanie."
      ],
      "metadata": {
        "id": "KXj6av_uat8K"
      }
    },
    {
      "cell_type": "code",
      "execution_count": null,
      "metadata": {
        "id": "5EkQhsYFSKyT"
      },
      "outputs": [],
      "source": [
        "num_buckets=5"
      ]
    },
    {
      "cell_type": "code",
      "execution_count": null,
      "metadata": {
        "colab": {
          "base_uri": "https://localhost:8080/"
        },
        "id": "Do5Wfga-SKyT",
        "outputId": "2f8d3d37-afaf-48e2-a5a6-078169e3dc3b"
      },
      "outputs": [
        {
          "output_type": "stream",
          "name": "stderr",
          "text": []
        }
      ],
      "source": [
        " train_df_with_id = final_df.withColumn(\"id\", monotonically_increasing_id())\n",
        "train_df_with_id.write.bucketBy(num_buckets, 'id').mode('overwrite').sortBy('id').saveAsTable('bucketed_table4')"
      ]
    },
    {
      "cell_type": "code",
      "execution_count": null,
      "metadata": {
        "colab": {
          "base_uri": "https://localhost:8080/"
        },
        "id": "li-JDFzLSKyT",
        "outputId": "0ed19ba1-123b-49f8-e98e-4dcdcfc44e69"
      },
      "outputs": [
        {
          "output_type": "stream",
          "name": "stderr",
          "text": [
            "25/01/28 14:40:29 WARN DAGScheduler: Broadcasting large task binary with size 1470.6 KiB\n",
            "25/01/28 14:40:54 WARN DAGScheduler: Broadcasting large task binary with size 1472.9 KiB\n",
            "25/01/28 14:40:57 WARN DAGScheduler: Broadcasting large task binary with size 1510.7 KiB\n",
            "25/01/28 14:41:21 WARN DAGScheduler: Broadcasting large task binary with size 1511.8 KiB\n",
            "25/01/28 14:41:21 WARN InstanceBuilder: Failed to load implementation from:dev.ludovic.netlib.blas.JNIBLAS\n",
            "25/01/28 14:41:21 WARN InstanceBuilder: Failed to load implementation from:dev.ludovic.netlib.blas.VectorBLAS\n",
            "25/01/28 14:41:21 WARN DAGScheduler: Broadcasting large task binary with size 1511.3 KiB\n",
            "25/01/28 14:41:48 WARN DAGScheduler: Broadcasting large task binary with size 1512.5 KiB\n",
            "25/01/28 14:41:50 WARN DAGScheduler: Broadcasting large task binary with size 1511.4 KiB\n",
            "25/01/28 14:41:55 WARN DAGScheduler: Broadcasting large task binary with size 1512.6 KiB\n",
            "25/01/28 14:41:57 WARN DAGScheduler: Broadcasting large task binary with size 1511.5 KiB\n",
            "25/01/28 14:42:02 WARN DAGScheduler: Broadcasting large task binary with size 1512.7 KiB\n",
            "25/01/28 14:42:04 WARN DAGScheduler: Broadcasting large task binary with size 1511.5 KiB\n",
            "25/01/28 14:42:08 WARN DAGScheduler: Broadcasting large task binary with size 1512.7 KiB\n",
            "25/01/28 14:42:10 WARN DAGScheduler: Broadcasting large task binary with size 1511.5 KiB\n",
            "25/01/28 14:42:15 WARN DAGScheduler: Broadcasting large task binary with size 1512.7 KiB\n",
            "25/01/28 14:42:16 WARN DAGScheduler: Broadcasting large task binary with size 1511.5 KiB\n",
            "25/01/28 14:42:21 WARN DAGScheduler: Broadcasting large task binary with size 1512.7 KiB\n",
            "25/01/28 14:42:23 WARN DAGScheduler: Broadcasting large task binary with size 1511.5 KiB\n",
            "25/01/28 14:42:27 WARN DAGScheduler: Broadcasting large task binary with size 1512.7 KiB\n",
            "25/01/28 14:42:29 WARN DAGScheduler: Broadcasting large task binary with size 1511.5 KiB\n",
            "25/01/28 14:42:34 WARN DAGScheduler: Broadcasting large task binary with size 1512.7 KiB\n",
            "25/01/28 14:42:36 WARN DAGScheduler: Broadcasting large task binary with size 1511.5 KiB\n",
            "25/01/28 14:42:40 WARN DAGScheduler: Broadcasting large task binary with size 1512.7 KiB\n",
            "25/01/28 14:42:43 WARN DAGScheduler: Broadcasting large task binary with size 1511.5 KiB\n",
            "25/01/28 14:42:47 WARN DAGScheduler: Broadcasting large task binary with size 1512.7 KiB\n",
            "25/01/28 14:42:48 WARN DAGScheduler: Broadcasting large task binary with size 1511.5 KiB\n",
            "25/01/28 14:42:52 WARN DAGScheduler: Broadcasting large task binary with size 1512.7 KiB\n",
            "25/01/28 14:42:54 WARN DAGScheduler: Broadcasting large task binary with size 1511.5 KiB\n",
            "25/01/28 14:42:58 WARN DAGScheduler: Broadcasting large task binary with size 1512.7 KiB\n",
            "25/01/28 14:43:01 WARN DAGScheduler: Broadcasting large task binary with size 1511.5 KiB\n",
            "25/01/28 14:43:05 WARN DAGScheduler: Broadcasting large task binary with size 1512.7 KiB\n",
            "25/01/28 14:43:06 WARN DAGScheduler: Broadcasting large task binary with size 1511.5 KiB\n",
            "25/01/28 14:43:11 WARN DAGScheduler: Broadcasting large task binary with size 1512.7 KiB\n",
            "25/01/28 14:43:15 WARN DAGScheduler: Broadcasting large task binary with size 1470.6 KiB\n",
            "25/01/28 14:43:41 WARN DAGScheduler: Broadcasting large task binary with size 1472.9 KiB\n",
            "25/01/28 14:43:43 WARN DAGScheduler: Broadcasting large task binary with size 1510.7 KiB\n",
            "25/01/28 14:44:09 WARN DAGScheduler: Broadcasting large task binary with size 1511.8 KiB\n",
            "25/01/28 14:44:09 WARN DAGScheduler: Broadcasting large task binary with size 1511.3 KiB\n",
            "25/01/28 14:44:40 WARN DAGScheduler: Broadcasting large task binary with size 1512.5 KiB\n",
            "25/01/28 14:44:42 WARN DAGScheduler: Broadcasting large task binary with size 1511.4 KiB\n",
            "25/01/28 14:44:46 WARN DAGScheduler: Broadcasting large task binary with size 1512.7 KiB\n",
            "25/01/28 14:44:48 WARN DAGScheduler: Broadcasting large task binary with size 1511.5 KiB\n",
            "25/01/28 14:44:52 WARN DAGScheduler: Broadcasting large task binary with size 1512.7 KiB\n",
            "25/01/28 14:44:54 WARN DAGScheduler: Broadcasting large task binary with size 1511.5 KiB\n",
            "25/01/28 14:44:58 WARN DAGScheduler: Broadcasting large task binary with size 1512.7 KiB\n",
            "25/01/28 14:45:00 WARN DAGScheduler: Broadcasting large task binary with size 1511.5 KiB\n",
            "25/01/28 14:45:04 WARN DAGScheduler: Broadcasting large task binary with size 1512.7 KiB\n",
            "25/01/28 14:45:06 WARN DAGScheduler: Broadcasting large task binary with size 1511.5 KiB\n",
            "25/01/28 14:45:11 WARN DAGScheduler: Broadcasting large task binary with size 1512.7 KiB\n",
            "25/01/28 14:45:13 WARN DAGScheduler: Broadcasting large task binary with size 1511.5 KiB\n",
            "25/01/28 14:45:17 WARN DAGScheduler: Broadcasting large task binary with size 1512.7 KiB\n",
            "25/01/28 14:45:19 WARN DAGScheduler: Broadcasting large task binary with size 1511.5 KiB\n",
            "25/01/28 14:45:23 WARN DAGScheduler: Broadcasting large task binary with size 1512.7 KiB\n",
            "25/01/28 14:45:25 WARN DAGScheduler: Broadcasting large task binary with size 1511.5 KiB\n",
            "25/01/28 14:45:29 WARN DAGScheduler: Broadcasting large task binary with size 1512.7 KiB\n",
            "25/01/28 14:45:32 WARN DAGScheduler: Broadcasting large task binary with size 1511.5 KiB\n",
            "25/01/28 14:45:37 WARN DAGScheduler: Broadcasting large task binary with size 1512.7 KiB\n",
            "25/01/28 14:45:39 WARN DAGScheduler: Broadcasting large task binary with size 1511.5 KiB\n",
            "25/01/28 14:45:43 WARN DAGScheduler: Broadcasting large task binary with size 1512.7 KiB\n",
            "25/01/28 14:45:45 WARN DAGScheduler: Broadcasting large task binary with size 1511.5 KiB\n",
            "25/01/28 14:45:50 WARN DAGScheduler: Broadcasting large task binary with size 1512.7 KiB\n",
            "25/01/28 14:45:52 WARN DAGScheduler: Broadcasting large task binary with size 1511.5 KiB\n",
            "25/01/28 14:45:56 WARN DAGScheduler: Broadcasting large task binary with size 1512.7 KiB\n",
            "25/01/28 14:45:58 WARN DAGScheduler: Broadcasting large task binary with size 1511.5 KiB\n",
            "25/01/28 14:46:02 WARN DAGScheduler: Broadcasting large task binary with size 1512.7 KiB\n",
            "25/01/28 14:46:06 WARN DAGScheduler: Broadcasting large task binary with size 1470.6 KiB\n",
            "25/01/28 14:46:30 WARN DAGScheduler: Broadcasting large task binary with size 1472.9 KiB\n",
            "25/01/28 14:46:33 WARN DAGScheduler: Broadcasting large task binary with size 1510.7 KiB\n",
            "25/01/28 14:46:56 WARN DAGScheduler: Broadcasting large task binary with size 1511.8 KiB\n",
            "25/01/28 14:46:57 WARN DAGScheduler: Broadcasting large task binary with size 1511.3 KiB\n",
            "25/01/28 14:47:24 WARN DAGScheduler: Broadcasting large task binary with size 1512.5 KiB\n",
            "25/01/28 14:47:26 WARN DAGScheduler: Broadcasting large task binary with size 1511.4 KiB\n",
            "25/01/28 14:47:30 WARN DAGScheduler: Broadcasting large task binary with size 1512.7 KiB\n",
            "25/01/28 14:47:32 WARN DAGScheduler: Broadcasting large task binary with size 1511.5 KiB\n",
            "25/01/28 14:47:37 WARN DAGScheduler: Broadcasting large task binary with size 1512.7 KiB\n",
            "25/01/28 14:47:39 WARN DAGScheduler: Broadcasting large task binary with size 1511.5 KiB\n",
            "25/01/28 14:47:43 WARN DAGScheduler: Broadcasting large task binary with size 1512.7 KiB\n",
            "25/01/28 14:47:45 WARN DAGScheduler: Broadcasting large task binary with size 1511.5 KiB\n",
            "25/01/28 14:47:51 WARN DAGScheduler: Broadcasting large task binary with size 1512.7 KiB\n",
            "25/01/28 14:47:56 WARN DAGScheduler: Broadcasting large task binary with size 1511.5 KiB\n",
            "25/01/28 14:48:04 WARN DAGScheduler: Broadcasting large task binary with size 1512.7 KiB\n",
            "25/01/28 14:48:12 WARN DAGScheduler: Broadcasting large task binary with size 1511.5 KiB\n",
            "25/01/28 14:48:18 WARN DAGScheduler: Broadcasting large task binary with size 1512.7 KiB\n",
            "25/01/28 14:48:20 WARN DAGScheduler: Broadcasting large task binary with size 1511.5 KiB\n",
            "25/01/28 14:48:25 WARN DAGScheduler: Broadcasting large task binary with size 1512.7 KiB\n",
            "25/01/28 14:48:28 WARN DAGScheduler: Broadcasting large task binary with size 1511.5 KiB\n",
            "25/01/28 14:48:33 WARN DAGScheduler: Broadcasting large task binary with size 1512.7 KiB\n",
            "25/01/28 14:48:35 WARN DAGScheduler: Broadcasting large task binary with size 1511.5 KiB\n",
            "25/01/28 14:48:40 WARN DAGScheduler: Broadcasting large task binary with size 1512.7 KiB\n",
            "25/01/28 14:48:41 WARN DAGScheduler: Broadcasting large task binary with size 1511.5 KiB\n",
            "25/01/28 14:48:46 WARN DAGScheduler: Broadcasting large task binary with size 1512.7 KiB\n",
            "25/01/28 14:48:49 WARN DAGScheduler: Broadcasting large task binary with size 1511.5 KiB\n",
            "25/01/28 14:48:53 WARN DAGScheduler: Broadcasting large task binary with size 1512.7 KiB\n",
            "25/01/28 14:48:55 WARN DAGScheduler: Broadcasting large task binary with size 1511.5 KiB\n",
            "25/01/28 14:48:59 WARN DAGScheduler: Broadcasting large task binary with size 1512.7 KiB\n",
            "25/01/28 14:49:01 WARN DAGScheduler: Broadcasting large task binary with size 1511.5 KiB\n",
            "25/01/28 14:49:06 WARN DAGScheduler: Broadcasting large task binary with size 1512.7 KiB\n",
            "25/01/28 14:49:11 WARN DAGScheduler: Broadcasting large task binary with size 1470.6 KiB\n",
            "25/01/28 14:49:33 WARN DAGScheduler: Broadcasting large task binary with size 1472.9 KiB\n",
            "25/01/28 14:49:36 WARN DAGScheduler: Broadcasting large task binary with size 1510.7 KiB\n",
            "25/01/28 14:49:58 WARN DAGScheduler: Broadcasting large task binary with size 1511.8 KiB\n",
            "25/01/28 14:49:59 WARN DAGScheduler: Broadcasting large task binary with size 1511.3 KiB\n",
            "25/01/28 14:50:24 WARN DAGScheduler: Broadcasting large task binary with size 1512.5 KiB\n",
            "25/01/28 14:50:26 WARN DAGScheduler: Broadcasting large task binary with size 1511.4 KiB\n",
            "25/01/28 14:50:30 WARN DAGScheduler: Broadcasting large task binary with size 1512.7 KiB\n",
            "25/01/28 14:50:32 WARN DAGScheduler: Broadcasting large task binary with size 1511.5 KiB\n",
            "25/01/28 14:50:38 WARN DAGScheduler: Broadcasting large task binary with size 1512.7 KiB\n",
            "25/01/28 14:50:40 WARN DAGScheduler: Broadcasting large task binary with size 1511.5 KiB\n",
            "25/01/28 14:50:46 WARN DAGScheduler: Broadcasting large task binary with size 1512.7 KiB\n",
            "25/01/28 14:50:48 WARN DAGScheduler: Broadcasting large task binary with size 1511.5 KiB\n",
            "25/01/28 14:50:52 WARN DAGScheduler: Broadcasting large task binary with size 1512.7 KiB\n",
            "25/01/28 14:50:59 WARN DAGScheduler: Broadcasting large task binary with size 1511.5 KiB\n",
            "25/01/28 14:51:04 WARN DAGScheduler: Broadcasting large task binary with size 1512.7 KiB\n",
            "25/01/28 14:51:06 WARN DAGScheduler: Broadcasting large task binary with size 1511.5 KiB\n",
            "25/01/28 14:51:11 WARN DAGScheduler: Broadcasting large task binary with size 1512.7 KiB\n",
            "25/01/28 14:51:13 WARN DAGScheduler: Broadcasting large task binary with size 1511.5 KiB\n",
            "25/01/28 14:51:19 WARN DAGScheduler: Broadcasting large task binary with size 1512.7 KiB\n",
            "25/01/28 14:51:21 WARN DAGScheduler: Broadcasting large task binary with size 1511.5 KiB\n",
            "25/01/28 14:51:25 WARN DAGScheduler: Broadcasting large task binary with size 1512.7 KiB\n",
            "25/01/28 14:51:28 WARN DAGScheduler: Broadcasting large task binary with size 1511.5 KiB\n",
            "25/01/28 14:51:32 WARN DAGScheduler: Broadcasting large task binary with size 1512.7 KiB\n",
            "25/01/28 14:51:34 WARN DAGScheduler: Broadcasting large task binary with size 1511.5 KiB\n",
            "25/01/28 14:51:38 WARN DAGScheduler: Broadcasting large task binary with size 1512.7 KiB\n",
            "25/01/28 14:51:41 WARN DAGScheduler: Broadcasting large task binary with size 1511.5 KiB\n",
            "25/01/28 14:51:45 WARN DAGScheduler: Broadcasting large task binary with size 1512.7 KiB\n",
            "25/01/28 14:51:47 WARN DAGScheduler: Broadcasting large task binary with size 1511.5 KiB\n",
            "25/01/28 14:51:51 WARN DAGScheduler: Broadcasting large task binary with size 1512.7 KiB\n",
            "25/01/28 14:51:57 WARN DAGScheduler: Broadcasting large task binary with size 1470.6 KiB\n",
            "25/01/28 14:52:22 WARN DAGScheduler: Broadcasting large task binary with size 1472.9 KiB\n",
            "25/01/28 14:52:24 WARN DAGScheduler: Broadcasting large task binary with size 1510.7 KiB\n",
            "25/01/28 14:52:49 WARN DAGScheduler: Broadcasting large task binary with size 1511.8 KiB\n",
            "25/01/28 14:52:49 WARN DAGScheduler: Broadcasting large task binary with size 1511.3 KiB\n",
            "25/01/28 14:53:16 WARN DAGScheduler: Broadcasting large task binary with size 1512.5 KiB\n",
            "25/01/28 14:53:17 WARN DAGScheduler: Broadcasting large task binary with size 1511.4 KiB\n",
            "25/01/28 14:53:21 WARN DAGScheduler: Broadcasting large task binary with size 1512.7 KiB\n",
            "25/01/28 14:53:23 WARN DAGScheduler: Broadcasting large task binary with size 1511.5 KiB\n",
            "25/01/28 14:53:27 WARN DAGScheduler: Broadcasting large task binary with size 1512.7 KiB\n",
            "25/01/28 14:53:29 WARN DAGScheduler: Broadcasting large task binary with size 1511.5 KiB\n",
            "25/01/28 14:53:34 WARN DAGScheduler: Broadcasting large task binary with size 1512.7 KiB\n",
            "25/01/28 14:53:36 WARN DAGScheduler: Broadcasting large task binary with size 1511.5 KiB\n",
            "25/01/28 14:53:40 WARN DAGScheduler: Broadcasting large task binary with size 1512.7 KiB\n",
            "25/01/28 14:53:42 WARN DAGScheduler: Broadcasting large task binary with size 1511.5 KiB\n",
            "25/01/28 14:53:46 WARN DAGScheduler: Broadcasting large task binary with size 1512.7 KiB\n",
            "25/01/28 14:53:48 WARN DAGScheduler: Broadcasting large task binary with size 1511.5 KiB\n",
            "25/01/28 14:53:52 WARN DAGScheduler: Broadcasting large task binary with size 1512.7 KiB\n",
            "25/01/28 14:53:53 WARN DAGScheduler: Broadcasting large task binary with size 1511.5 KiB\n",
            "25/01/28 14:53:57 WARN DAGScheduler: Broadcasting large task binary with size 1512.7 KiB\n",
            "25/01/28 14:53:59 WARN DAGScheduler: Broadcasting large task binary with size 1511.5 KiB\n",
            "25/01/28 14:54:03 WARN DAGScheduler: Broadcasting large task binary with size 1512.7 KiB\n",
            "25/01/28 14:54:05 WARN DAGScheduler: Broadcasting large task binary with size 1511.5 KiB\n",
            "25/01/28 14:54:10 WARN DAGScheduler: Broadcasting large task binary with size 1512.7 KiB\n",
            "25/01/28 14:54:13 WARN DAGScheduler: Broadcasting large task binary with size 1511.5 KiB\n",
            "25/01/28 14:54:17 WARN DAGScheduler: Broadcasting large task binary with size 1512.7 KiB\n",
            "25/01/28 14:54:19 WARN DAGScheduler: Broadcasting large task binary with size 1511.5 KiB\n",
            "25/01/28 14:54:23 WARN DAGScheduler: Broadcasting large task binary with size 1512.7 KiB\n",
            "25/01/28 14:54:26 WARN DAGScheduler: Broadcasting large task binary with size 1511.5 KiB\n",
            "25/01/28 14:54:30 WARN DAGScheduler: Broadcasting large task binary with size 1512.7 KiB\n",
            "25/01/28 14:54:31 WARN DAGScheduler: Broadcasting large task binary with size 1511.5 KiB\n",
            "25/01/28 14:54:36 WARN DAGScheduler: Broadcasting large task binary with size 1512.7 KiB\n"
          ]
        }
      ],
      "source": [
        "models = []\n",
        "for i in range(num_buckets):\n",
        "    partition_df = train_df.rdd.zipWithIndex().filter(lambda x: x[1] % num_buckets == i).map(lambda x: x[0]).toDF()\n",
        "    model = lr.fit(partition_df)\n",
        "    models.append(model)"
      ]
    },
    {
      "cell_type": "markdown",
      "source": [
        "zapisanie wytrenowanych modeli"
      ],
      "metadata": {
        "id": "QdTXS1_fbEGr"
      }
    },
    {
      "cell_type": "code",
      "source": [
        "base_path = \"models/\"\n",
        "for i, model in enumerate(models):\n",
        "    model_path = f\"{base_path}model_bucket_{i}\"\n",
        "\n",
        "    model.save(model_path)"
      ],
      "metadata": {
        "colab": {
          "base_uri": "https://localhost:8080/"
        },
        "id": "BrF5MKqLaJ_v",
        "outputId": "a829117d-fe71-4eca-9ba9-f15243c37a24"
      },
      "execution_count": null,
      "outputs": [
        {
          "output_type": "stream",
          "name": "stderr",
          "text": [
            "25/01/28 14:59:09 WARN TaskSetManager: Stage 200 contains a task of very large size (106064 KiB). The maximum recommended task size is 1000 KiB.\n",
            "25/01/28 14:59:20 WARN TaskSetManager: Stage 204 contains a task of very large size (106224 KiB). The maximum recommended task size is 1000 KiB.\n",
            "25/01/28 14:59:31 WARN TaskSetManager: Stage 208 contains a task of very large size (105985 KiB). The maximum recommended task size is 1000 KiB.\n",
            "25/01/28 14:59:35 WARN TaskSetManager: Stage 212 contains a task of very large size (105745 KiB). The maximum recommended task size is 1000 KiB.\n",
            "25/01/28 14:59:40 WARN TaskSetManager: Stage 216 contains a task of very large size (105506 KiB). The maximum recommended task size is 1000 KiB.\n"
          ]
        }
      ]
    },
    {
      "cell_type": "code",
      "source": [
        "loaded_models = []\n",
        "for i in range(num_buckets):\n",
        "    model_path = f\"{base_path}model_bucket_{i}\"  #\n",
        "    loaded_model = LogisticRegressionModel.load(model_path)\n",
        "    print(f\"Model {i} został wczytany z {model_path}\")"
      ],
      "metadata": {
        "colab": {
          "base_uri": "https://localhost:8080/"
        },
        "id": "-HFdASE9boaT",
        "outputId": "ecfcbfdb-8e6e-437f-f037-7b164da74eb0"
      },
      "execution_count": null,
      "outputs": [
        {
          "output_type": "stream",
          "name": "stderr",
          "text": []
        },
        {
          "output_type": "stream",
          "name": "stdout",
          "text": [
            "Model 0 został wczytany z models/model_bucket_0\n"
          ]
        },
        {
          "output_type": "stream",
          "name": "stderr",
          "text": []
        },
        {
          "output_type": "stream",
          "name": "stdout",
          "text": [
            "Model 1 został wczytany z models/model_bucket_1\n"
          ]
        },
        {
          "output_type": "stream",
          "name": "stderr",
          "text": []
        },
        {
          "output_type": "stream",
          "name": "stdout",
          "text": [
            "Model 2 został wczytany z models/model_bucket_2\n"
          ]
        },
        {
          "output_type": "stream",
          "name": "stderr",
          "text": []
        },
        {
          "output_type": "stream",
          "name": "stdout",
          "text": [
            "Model 3 został wczytany z models/model_bucket_3\n"
          ]
        },
        {
          "output_type": "stream",
          "name": "stderr",
          "text": [
            "\r[Stage 243:================================================>        (6 + 1) / 7]\r"
          ]
        },
        {
          "output_type": "stream",
          "name": "stdout",
          "text": [
            "Model 4 został wczytany z models/model_bucket_4\n"
          ]
        },
        {
          "output_type": "stream",
          "name": "stderr",
          "text": [
            "\r                                                                                \r"
          ]
        }
      ]
    },
    {
      "cell_type": "markdown",
      "source": [
        "Test działania modelu na zbiorze testowym"
      ],
      "metadata": {
        "id": "xlA0wbzUb1m9"
      }
    },
    {
      "cell_type": "code",
      "execution_count": null,
      "metadata": {
        "id": "ER0th74bSKyT"
      },
      "outputs": [],
      "source": [
        "predictions = []\n",
        "for model in models:\n",
        "    pred = model.transform(test_df)\n",
        "    predictions.append(pred)"
      ]
    },
    {
      "cell_type": "code",
      "execution_count": null,
      "metadata": {
        "id": "2q3vBjyuSKyT"
      },
      "outputs": [],
      "source": [
        "final_predictions = predictions[0]\n",
        "for pred in predictions[1:]:\n",
        "    final_predictions = final_predictions.union(pred)\n"
      ]
    },
    {
      "cell_type": "code",
      "execution_count": null,
      "metadata": {
        "colab": {
          "base_uri": "https://localhost:8080/"
        },
        "id": "vvv7u0iISKyU",
        "outputId": "3a7f7a03-c47b-4f33-d697-710854a0db4c"
      },
      "outputs": [
        {
          "output_type": "stream",
          "name": "stderr",
          "text": [
            "25/01/28 15:05:45 WARN DAGScheduler: Broadcasting large task binary with size 507.2 MiB\n"
          ]
        },
        {
          "output_type": "stream",
          "name": "stdout",
          "text": [
            "+---+---+-----+------+-------+-----+--------------+--------------------+--------------------+-----+--------------------+--------------------+----------+\n",
            "|pid|tid|level|source|message|words|filtered_words|        raw_features|            features|label|       rawPrediction|         probability|prediction|\n",
            "+---+---+-----+------+-------+-----+--------------+--------------------+--------------------+-----+--------------------+--------------------+----------+\n",
            "|   |   |     |      |       |   []|            []|(10000,[3372],[1.0])|(10000,[3372],[1....|  0.0|[14.6935155215089...|[0.99298496037442...|       0.0|\n",
            "|   |   |     |      |       |   []|            []|(10000,[3372],[1.0])|(10000,[3372],[1....|  0.0|[14.6935155215089...|[0.99298496037442...|       0.0|\n",
            "|   |   |     |      |       |   []|            []|(10000,[3372],[1.0])|(10000,[3372],[1....|  0.0|[14.6935155215089...|[0.99298496037442...|       0.0|\n",
            "|   |   |     |      |       |   []|            []|(10000,[3372],[1.0])|(10000,[3372],[1....|  0.0|[14.6935155215089...|[0.99298496037442...|       0.0|\n",
            "|   |   |     |      |       |   []|            []|(10000,[3372],[1.0])|(10000,[3372],[1....|  0.0|[14.6935155215089...|[0.99298496037442...|       0.0|\n",
            "+---+---+-----+------+-------+-----+--------------+--------------------+--------------------+-----+--------------------+--------------------+----------+\n",
            "only showing top 5 rows\n",
            "\n"
          ]
        },
        {
          "output_type": "stream",
          "name": "stderr",
          "text": [
            "\r                                                                                \r"
          ]
        }
      ],
      "source": [
        "final_predictions.show(5)"
      ]
    },
    {
      "cell_type": "code",
      "execution_count": null,
      "metadata": {
        "colab": {
          "base_uri": "https://localhost:8080/"
        },
        "id": "AeNGYErjSKyU",
        "outputId": "476e941f-3c2c-4c1b-958b-dac420d1d41b"
      },
      "outputs": [
        {
          "output_type": "stream",
          "name": "stderr",
          "text": [
            "25/01/28 15:02:42 WARN DAGScheduler: Broadcasting large task binary with size 507.2 MiB\n",
            "25/01/28 15:03:32 WARN DAGScheduler: Broadcasting large task binary with size 507.0 MiB\n"
          ]
        },
        {
          "output_type": "stream",
          "name": "stdout",
          "text": [
            "Liczba unikalnych predykcji: 1005\n"
          ]
        },
        {
          "output_type": "stream",
          "name": "stderr",
          "text": [
            "\r                                                                                \r"
          ]
        }
      ],
      "source": [
        "unique_predictions_count = final_predictions.select(\"prediction\").distinct().count()\n",
        "\n",
        "print(f\"Liczba unikalnych predykcji: {unique_predictions_count}\")"
      ]
    },
    {
      "cell_type": "code",
      "execution_count": null,
      "metadata": {
        "colab": {
          "base_uri": "https://localhost:8080/"
        },
        "id": "_sr2AJekSKyU",
        "outputId": "1e26f660-402a-4d5a-ccbd-d9649ca2826f"
      },
      "outputs": [
        {
          "output_type": "stream",
          "name": "stderr",
          "text": []
        },
        {
          "output_type": "execute_result",
          "data": {
            "text/plain": [
              "310625"
            ]
          },
          "metadata": {},
          "execution_count": 49
        }
      ],
      "source": [
        "record_count = test_df.count()\n",
        "record_count"
      ]
    },
    {
      "cell_type": "markdown",
      "source": [
        "jak widać powstało 1005 etykiet, opisujacych 310625 logów. Na razie mają one wartości liczbowe i nie wiele mówią, jedna potencjalnie istnieje możliwośc rowoju projektu, poprzez dodanie zautomatyzowanego etykietowania."
      ],
      "metadata": {
        "id": "VjJMxHLocwNb"
      }
    },
    {
      "cell_type": "code",
      "source": [],
      "metadata": {
        "id": "Ng-93m1fdMe8"
      },
      "execution_count": null,
      "outputs": []
    }
  ],
  "metadata": {
    "colab": {
      "provenance": []
    },
    "kernelspec": {
      "display_name": "Python 3 (ipykernel)",
      "language": "python",
      "name": "python3"
    },
    "language_info": {
      "codemirror_mode": {
        "name": "ipython",
        "version": 3
      },
      "file_extension": ".py",
      "mimetype": "text/x-python",
      "name": "python",
      "nbconvert_exporter": "python",
      "pygments_lexer": "ipython3",
      "version": "3.10.12"
    }
  },
  "nbformat": 4,
  "nbformat_minor": 0
}